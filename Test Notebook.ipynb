{
 "cells": [
  {
   "cell_type": "code",
   "execution_count": 2,
   "metadata": {},
   "outputs": [],
   "source": [
    "import pandas as pd\n",
    "import numpy as np\n",
    "import json"
   ]
  },
  {
   "cell_type": "code",
   "execution_count": 3,
   "metadata": {},
   "outputs": [
    {
     "name": "stdout",
     "output_type": "stream",
     "text": [
      "<class 'list'>\n"
     ]
    }
   ],
   "source": [
    "file = open('data/verified-2019_tweets.json', 'r')\n",
    "tweet_json = json.load(file)\n",
    "file.close()\n",
    "print(type(tweet_json))"
   ]
  },
  {
   "cell_type": "code",
   "execution_count": 22,
   "metadata": {},
   "outputs": [
    {
     "name": "stdout",
     "output_type": "stream",
     "text": [
      "tweet_json\n",
      "<class 'list'>\n",
      "1987\n",
      "\n",
      "tweet_json[0]\n",
      "<class 'dict'>\n",
      "2\n",
      "{'created_at': 'Wed Jun 05 20:09:15 +0000 2019', 'user': {'id': 31098240, 'id_str': '31098240', 'name': 'Netwerk24', 'screen_name': 'Netwerk24', 'location': 'Johannesburg', 'description': 'Al die nuus, politiek, sport, geldsake & vermaak tot menings & diepteontledings, #AllesOpEenPlek & in Afrikaans! Volg @Netwerk24Sport vir top-sportnuus.', 'url': 'https://t.co/Y0QuSqwwOL', 'entities': {'url': {'urls': [{'url': 'https://t.co/Y0QuSqwwOL', 'expanded_url': 'http://www.netwerk24.com', 'display_url': 'netwerk24.com', 'indices': [0, 23]}]}, 'description': {'urls': []}}, 'protected': False, 'followers_count': 188419, 'friends_count': 857, 'listed_count': 432, 'created_at': 'Tue Apr 14 10:57:46 +0000 2009', 'favourites_count': 628, 'utc_offset': None, 'time_zone': None, 'geo_enabled': False, 'verified': True, 'statuses_count': 117922, 'lang': None, 'contributors_enabled': False, 'is_translator': False, 'is_translation_enabled': False, 'profile_background_color': '9AE4E8', 'profile_background_image_url': 'http://abs.twimg.com/images/themes/theme1/bg.png', 'profile_background_image_url_https': 'https://abs.twimg.com/images/themes/theme1/bg.png', 'profile_background_tile': True, 'profile_image_url': 'http://pbs.twimg.com/profile_images/919473757202284544/m0Pko0UH_normal.jpg', 'profile_image_url_https': 'https://pbs.twimg.com/profile_images/919473757202284544/m0Pko0UH_normal.jpg', 'profile_banner_url': 'https://pbs.twimg.com/profile_banners/31098240/1559228966', 'profile_link_color': '0084B4', 'profile_sidebar_border_color': 'FFFFFF', 'profile_sidebar_fill_color': 'DDFFCC', 'profile_text_color': '333333', 'profile_use_background_image': False, 'has_extended_profile': False, 'default_profile': False, 'default_profile_image': False, 'following': False, 'follow_request_sent': False, 'notifications': False, 'translator_type': 'none'}}\n",
      "\n",
      "tweet_json[0].keys()\n",
      "created_at\n",
      "user\n",
      "\n",
      "tweet_json[0]['created_at']\n",
      "<class 'str'>\n",
      "Wed Jun 05 20:09:15 +0000 2019\n",
      "\n",
      "tweet_json[0]['user']\n",
      "<class 'dict'>\n",
      "\n",
      "tweet_json[0]['user'].keys()\n",
      "id\n",
      "id_str\n",
      "name\n",
      "screen_name\n",
      "location\n",
      "description\n",
      "url\n",
      "entities\n",
      "protected\n",
      "followers_count\n",
      "friends_count\n",
      "listed_count\n",
      "created_at\n",
      "favourites_count\n",
      "utc_offset\n",
      "time_zone\n",
      "geo_enabled\n",
      "verified\n",
      "statuses_count\n",
      "lang\n",
      "contributors_enabled\n",
      "is_translator\n",
      "is_translation_enabled\n",
      "profile_background_color\n",
      "profile_background_image_url\n",
      "profile_background_image_url_https\n",
      "profile_background_tile\n",
      "profile_image_url\n",
      "profile_image_url_https\n",
      "profile_banner_url\n",
      "profile_link_color\n",
      "profile_sidebar_border_color\n",
      "profile_sidebar_fill_color\n",
      "profile_text_color\n",
      "profile_use_background_image\n",
      "has_extended_profile\n",
      "default_profile\n",
      "default_profile_image\n",
      "following\n",
      "follow_request_sent\n",
      "notifications\n",
      "translator_type\n"
     ]
    }
   ],
   "source": [
    "print('tweet_json')\n",
    "print(type(tweet_json))\n",
    "print(len(tweet_json))\n",
    "\n",
    "print()\n",
    "print('tweet_json[0]')\n",
    "print(type(tweet_json[0]))\n",
    "print(len(tweet_json[0]))\n",
    "print(tweet_json[0])\n",
    "\n",
    "print()\n",
    "print('tweet_json[0].keys()')\n",
    "for key in tweet_json[0].keys():\n",
    "    print(key)\n",
    "\n",
    "print()\n",
    "print('tweet_json[0][\\'created_at\\']')\n",
    "print(type(tweet_json[0]['created_at']))\n",
    "print(tweet_json[0]['created_at'])\n",
    "\n",
    "print()\n",
    "print('tweet_json[0][\\'user\\']')\n",
    "print(type(tweet_json[0]['user']))\n",
    "\n",
    "print()\n",
    "print('tweet_json[0][\\'user\\'].keys()')\n",
    "for key in tweet_json[0]['user'].keys():\n",
    "    print(key)"
   ]
  }
 ],
 "metadata": {
  "kernelspec": {
   "display_name": "Python 3",
   "language": "python",
   "name": "python3"
  },
  "language_info": {
   "codemirror_mode": {
    "name": "ipython",
    "version": 3
   },
   "file_extension": ".py",
   "mimetype": "text/x-python",
   "name": "python",
   "nbconvert_exporter": "python",
   "pygments_lexer": "ipython3",
   "version": "3.7.4"
  }
 },
 "nbformat": 4,
 "nbformat_minor": 2
}
