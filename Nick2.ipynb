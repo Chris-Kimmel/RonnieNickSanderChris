{
 "cells": [
  {
   "cell_type": "code",
   "execution_count": 17,
   "metadata": {},
   "outputs": [
    {
     "name": "stdout",
     "output_type": "stream",
     "text": [
      "Our model has a  98.46 % accuracy on the training set\n"
     ]
    }
   ],
   "source": [
    "import pandas as pd\n",
    "import numpy as np\n",
    "import json\n",
    "\n",
    "bot_labels = pd.read_csv('botwiki-2019.tsv', names = ['id', 'identity'], sep = '\\t')\n",
    "human_labels = pd.read_csv('verified-2019.tsv', names = ['id', 'identity'], sep = '\\t')\n",
    "bot_labels['bot'] = 1\n",
    "human_labels['bot'] = 0\n",
    "\n",
    "\n",
    "#convert json to DataFrame\n",
    "file = open('botwiki-2019_tweets.json')\n",
    "file1 = open('verified-2019_tweets.json')\n",
    "jsn = json.load(file)\n",
    "jsn1 = json.load(file1)\n",
    "bot_accounts = pd.DataFrame(pd.json_normalize(jsn))\n",
    "human_accounts = pd.DataFrame(pd.json_normalize(jsn1))\n",
    "bot_accounts = bot_accounts.merge(bot_labels, left_on=bot_accounts['user.id'], right_on=bot_labels['id'])\n",
    "human_accounts = human_accounts.merge(human_labels, left_on=human_accounts['user.id'], right_on=human_labels['id'])\n",
    "accounts = bot_accounts.append(human_accounts)\n",
    "accounts.to_csv('accounts.csv')\n",
    "\n",
    "\n",
    "\n",
    "# import train_test_split\n",
    "from sklearn.model_selection import train_test_split\n",
    "\n",
    "#Creating test train split for knn\n",
    "X = accounts[['user.followers_count', 'user.friends_count', 'user.listed_count', 'user.favourites_count', ]].to_numpy()\n",
    "y = accounts[['bot']].to_numpy()\n",
    "\n",
    " \n",
    "# make the test data 25% of the total data\n",
    "# Set a random seed\n",
    "X_train, X_test, y_train, y_test = train_test_split(\n",
    "     X, y, test_size=0.25, random_state=440)\n",
    "\n",
    "# import NearestNeighbors\n",
    "from sklearn.neighbors import KNeighborsClassifier\n",
    "\n",
    "# Make the model\n",
    "knn = KNeighborsClassifier(n_neighbors = 3)\n",
    "\n",
    "# Fit the model\n",
    "knn.fit(X_train,y_train.ravel())\n",
    "\n",
    "# Make a prediction on our train set\n",
    "y_predict = knn.predict(X_train)\n",
    "\n",
    "# calculate the accuracy here\n",
    "# sum a list of booleans and True gets cast as 1\n",
    "# False gets cast as 0\n",
    "print(\"Our model has a \",\n",
    "      np.round(sum(y_predict == y_train.ravel())/len(y_train)*100,2),\n",
    "      \"% accuracy on the training set\")\n"
   ]
  },
  {
   "cell_type": "code",
   "execution_count": 19,
   "metadata": {},
   "outputs": [
    {
     "name": "stdout",
     "output_type": "stream",
     "text": [
      "Our model has a  91.76 % accuracy on the training set\n"
     ]
    }
   ],
   "source": [
    "cumulative_raw_data = pd.read_csv(\"Cumulative_Raw_Data.csv\")\n",
    "\n",
    "\n",
    "#Creating test train split for knn\n",
    "X = cumulative_raw_data[['followers_count', 'friends_count', 'listed_count', 'favourites_count', ]].to_numpy()\n",
    "y = cumulative_raw_data[['species']].to_numpy()\n",
    "\n",
    " \n",
    "# make the test data 25% of the total data\n",
    "# Set a random seed\n",
    "X_train, X_test, y_train, y_test = train_test_split(\n",
    "     X, y, test_size=0.25, random_state=440)\n",
    "\n",
    "# import NearestNeighbors\n",
    "from sklearn.neighbors import KNeighborsClassifier\n",
    "\n",
    "# Make the model\n",
    "knn = KNeighborsClassifier(n_neighbors = 3)\n",
    "\n",
    "# Fit the model\n",
    "knn.fit(X_train,y_train.ravel())\n",
    "\n",
    "# Make a prediction on our train set\n",
    "y_predict = knn.predict(X_train)\n",
    "\n",
    "# calculate the accuracy here\n",
    "# sum a list of booleans and True gets cast as 1\n",
    "# False gets cast as 0\n",
    "print(\"Our model has a \",\n",
    "      np.round(sum(y_predict == y_train.ravel())/len(y_train)*100,2),\n",
    "      \"% accuracy on the training set\")\n"
   ]
  },
  {
   "cell_type": "code",
   "execution_count": null,
   "metadata": {},
   "outputs": [],
   "source": []
  },
  {
   "cell_type": "code",
   "execution_count": null,
   "metadata": {},
   "outputs": [],
   "source": []
  }
 ],
 "metadata": {
  "kernelspec": {
   "display_name": "Python 3",
   "language": "python",
   "name": "python3"
  },
  "language_info": {
   "codemirror_mode": {
    "name": "ipython",
    "version": 3
   },
   "file_extension": ".py",
   "mimetype": "text/x-python",
   "name": "python",
   "nbconvert_exporter": "python",
   "pygments_lexer": "ipython3",
   "version": "3.7.6"
  }
 },
 "nbformat": 4,
 "nbformat_minor": 4
}
